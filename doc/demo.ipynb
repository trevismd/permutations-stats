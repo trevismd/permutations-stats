{
 "cells": [
  {
   "cell_type": "markdown",
   "metadata": {
    "pycharm": {
     "name": "#%% md\n"
    }
   },
   "source": [
    "# Permutations-stats demo\n",
    "Get some tools"
   ]
  },
  {
   "cell_type": "code",
   "execution_count": 1,
   "metadata": {
    "pycharm": {
     "name": "#%%\n"
    }
   },
   "outputs": [],
   "source": [
    "from collections import Counter, namedtuple\n",
    "import numpy as np\n",
    "import pandas as pd\n",
    "import seaborn as sns\n",
    "import time"
   ]
  },
  {
   "cell_type": "code",
   "execution_count": 45,
   "metadata": {},
   "outputs": [
    {
     "name": "stderr",
     "output_type": "stream",
     "text": [
      "R[write to console]:  Package ‘exactRankTests’ is no longer under development.\n",
      " Please consider using package ‘coin’ instead.\n",
      "\n",
      "\n",
      "R[write to console]: \n",
      "Attaching package: ‘exactRankTests’\n",
      "\n",
      "\n",
      "R[write to console]: The following objects are masked from ‘package:coin’:\n",
      "\n",
      "    dperm, pperm, qperm, rperm\n",
      "\n",
      "\n"
     ]
    }
   ],
   "source": [
    "from rpy2 import robjects\n",
    "from rpy2.robjects import numpy2ri\n",
    "numpy2ri.activate()\n",
    "robjects.r(\"library('brunnermunzel')\")\n",
    "robjects.r(\"library('exactRankTests')\")\n",
    "\n",
    "bmp = robjects.r(\"brunnermunzel.permutation.test\")\n",
    "wilcox = robjects.r(\"wilcox.exact\")"
   ]
  },
  {
   "cell_type": "code",
   "execution_count": 2,
   "metadata": {
    "pycharm": {
     "name": "#%%\n"
    }
   },
   "outputs": [],
   "source": [
    "def describe(array):\n",
    "    \"\"\"Prints mean, std, median, iqr, range of a 1d array\"\"\"\n",
    "    mean = np.mean(array)\n",
    "    std = np.std(array)\n",
    "    median = np.median(array)\n",
    "    p25 = np.percentile(array, 25)\n",
    "    p75 = np.percentile(array, 75)\n",
    "    min_ = np.min(array)\n",
    "    max_ = np.max(array)\n",
    "    print(f\"{len(array)} items with: \\n\"\n",
    "          f\"Mean: {mean:.2f}\\tstd: {std:.2f}\\n\"\n",
    "          f\"Median: {median}\\tIQR: [{p25:.1f}-{p75:.1f}]\\tRange: [{min_}-{max_}]\")\n",
    "\n",
    "\n",
    "def print_results(res_tuple, test=None, permutations=None):\n",
    "    if test is None:\n",
    "        test = res_tuple.test\n",
    "    if permutations is None:\n",
    "        permutations = res_tuple.permutations\n",
    "\n",
    "    print(f\"{test} Statistic: {res_tuple.statistic:.3f}\\t\"\n",
    "          f\"p-value: {res_tuple.pvalue:.4e}\\t# permutations computed: {permutations}\")\n",
    "\n",
    "\n",
    "def timeit(func, *args, **kwargs):\n",
    "    start_time = time.time()\n",
    "    vals = func(*args, **kwargs)\n",
    "    end_time = time.time()\n",
    "    print(f\"Run time: {end_time - start_time:.3f}s\")\n",
    "    return vals"
   ]
  },
  {
   "cell_type": "markdown",
   "metadata": {},
   "source": [
    "## We'll need data\n",
    "Lets load some classic data.\n",
    "This data was generated with the following cell, which you can skip if you\n",
    "don't have scikit-learn installed. You have the files."
   ]
  },
  {
   "cell_type": "code",
   "execution_count": 3,
   "metadata": {
    "pycharm": {
     "name": "#%%\n"
    }
   },
   "outputs": [],
   "source": [
    "from sklearn.datasets import load_iris\n",
    "\n",
    "iris = load_iris()\n",
    "iris_data = iris[\"data\"]\n",
    "iris_target= iris[\"target\"]\n",
    "\n",
    "pd.DataFrame(iris_data).to_csv(\"iris_data.csv\", index=False)\n",
    "pd.DataFrame(iris_target).to_csv(\"iris_target.csv\", index=False)"
   ]
  },
  {
   "cell_type": "code",
   "execution_count": 4,
   "metadata": {
    "pycharm": {
     "name": "#%%\n"
    }
   },
   "outputs": [
    {
     "data": {
      "text/plain": [
       "array([[4.8, 3. , 1.4, 0.3],\n",
       "       [5.1, 3.8, 1.6, 0.2],\n",
       "       [4.6, 3.2, 1.4, 0.2],\n",
       "       [5.3, 3.7, 1.5, 0.2],\n",
       "       [5. , 3.3, 1.4, 0.2],\n",
       "       [7. , 3.2, 4.7, 1.4],\n",
       "       [6.4, 3.2, 4.5, 1.5],\n",
       "       [6.9, 3.1, 4.9, 1.5],\n",
       "       [5.5, 2.3, 4. , 1.3],\n",
       "       [6.5, 2.8, 4.6, 1.5]])"
      ]
     },
     "execution_count": 4,
     "metadata": {},
     "output_type": "execute_result"
    }
   ],
   "source": [
    "iris_data = pd.read_csv(\"iris_data.csv\").to_numpy()\n",
    "iris_target = pd.read_csv(\"iris_target.csv\").to_numpy().squeeze()\n",
    "iris_data[45:55]"
   ]
  },
  {
   "cell_type": "code",
   "execution_count": 5,
   "metadata": {
    "pycharm": {
     "name": "#%%\n"
    }
   },
   "outputs": [
    {
     "data": {
      "text/plain": [
       "array([0, 0, 0, 0, 0, 1, 1, 1, 1, 1])"
      ]
     },
     "execution_count": 5,
     "metadata": {},
     "output_type": "execute_result"
    }
   ],
   "source": [
    "iris_target[45:55]\n"
   ]
  },
  {
   "cell_type": "code",
   "execution_count": 6,
   "metadata": {
    "pycharm": {
     "name": "#%%\n"
    }
   },
   "outputs": [
    {
     "data": {
      "text/plain": [
       "Counter({0: 50, 1: 50, 2: 50})"
      ]
     },
     "execution_count": 6,
     "metadata": {},
     "output_type": "execute_result"
    }
   ],
   "source": [
    "target_counts = Counter(iris_target)\n",
    "target_counts  # There are 50 items for each of the 3 groups\n"
   ]
  },
  {
   "cell_type": "markdown",
   "metadata": {},
   "source": [
    "Let's take the first 12 of the first and second kind of flowers"
   ]
  },
  {
   "cell_type": "code",
   "execution_count": 7,
   "metadata": {
    "pycharm": {
     "name": "#%%\n"
    }
   },
   "outputs": [],
   "source": [
    "zero = iris_data[:9]\n",
    "one = iris_data[50:59]"
   ]
  },
  {
   "cell_type": "markdown",
   "metadata": {
    "pycharm": {
     "name": "#%% md\n"
    }
   },
   "source": [
    "And of them the first variable"
   ]
  },
  {
   "cell_type": "code",
   "execution_count": 8,
   "metadata": {
    "pycharm": {
     "name": "#%%\n"
    }
   },
   "outputs": [],
   "source": [
    "zero_1 = zero[:,0]\n",
    "one_1 = one[:, 0]"
   ]
  },
  {
   "cell_type": "markdown",
   "metadata": {},
   "source": [
    "Let's get some description and plot that"
   ]
  },
  {
   "cell_type": "code",
   "execution_count": 9,
   "metadata": {
    "pycharm": {
     "name": "#%%\n"
    }
   },
   "outputs": [
    {
     "name": "stdout",
     "output_type": "stream",
     "text": [
      "ZERO:\t9 items with: \n",
      "Mean: 4.86\tstd: 0.29\n",
      "Median: 4.9\tIQR: [4.6-5.0]\tRange: [4.4-5.4]\n",
      "\n",
      "ONE:\t9 items with: \n",
      "Mean: 6.20\tstd: 0.65\n",
      "Median: 6.4\tIQR: [5.7-6.6]\tRange: [4.9-7.0]\n"
     ]
    },
    {
     "data": {
      "image/png": "[encoded data removed]",
      "text/plain": [
       "<Figure size 432x288 with 1 Axes>"
      ]
     },
     "metadata": {
      "needs_background": "light"
     },
     "output_type": "display_data"
    }
   ],
   "source": [
    "print(\"ZERO:\\t\", end=\"\")\n",
    "describe(zero_1)\n",
    "print(\"\\nONE:\\t\", end=\"\")\n",
    "describe(one_1)\n",
    "\n",
    "with sns.plotting_context('paper'):\n",
    "    sns.boxplot(np.concatenate([iris_target[:9], iris_target[50:59]]),\n",
    "                np.concatenate([zero_1, one_1]))"
   ]
  },
  {
   "cell_type": "markdown",
   "metadata": {
    "pycharm": {
     "name": "#%% md\n"
    }
   },
   "source": [
    "Now let's import permutations-stats"
   ]
  },
  {
   "cell_type": "code",
   "execution_count": 10,
   "metadata": {
    "pycharm": {
     "name": "#%%\n"
    }
   },
   "outputs": [],
   "source": [
    "import permutations_stats.permutations as pm"
   ]
  },
  {
   "cell_type": "markdown",
   "metadata": {},
   "source": [
    "A test is run with: (by default, an exact Brunner Munzel test)\n",
    "```python\n",
    "pm.permutation_test(x, y)\n",
    "```\n",
    "which returns a named tuple"
   ]
  },
  {
   "cell_type": "code",
   "execution_count": 11,
   "metadata": {
    "pycharm": {
     "name": "#%%\n"
    }
   },
   "outputs": [
    {
     "data": {
      "text/plain": [
       "PermutationsResults(statistic=7.589466384404109, pvalue=0.0006993006993006993, permutations=48620, test='brunner_munzel', alternative='TWO_SIDED', method='exact')"
      ]
     },
     "execution_count": 11,
     "metadata": {},
     "output_type": "execute_result"
    }
   ],
   "source": [
    "pm.permutation_test(zero_1, one_1)"
   ]
  },
  {
   "cell_type": "markdown",
   "metadata": {},
   "source": [
    "The returned values are:\n",
    "- The Brunner Munzel statistic of the provided data\n",
    "- The proportion of permutations where that statistic was at least as extreme as that statistic (7.589), i.e. the pvalue\n",
    "- The number of permutations calculated (all combinations as order does not matter). 48 620\n",
    "- The name of the test run\n",
    "- The alternative hypothesis\n",
    "- The method: exact or simulation"
   ]
  },
  {
   "cell_type": "markdown",
   "metadata": {
    "pycharm": {
     "name": "#%% md\n"
    }
   },
   "source": [
    "and with the `print_results` function defined above:"
   ]
  },
  {
   "cell_type": "code",
   "execution_count": 12,
   "metadata": {
    "pycharm": {
     "name": "#%%\n"
    }
   },
   "outputs": [
    {
     "name": "stdout",
     "output_type": "stream",
     "text": [
      "brunner_munzel Statistic: 7.589\tp-value: 6.9930e-04\t# permutations computed: 48620\n"
     ]
    }
   ],
   "source": [
    "res = pm.permutation_test(zero_1, one_1)\n",
    "print_results(res)"
   ]
  },
  {
   "cell_type": "code",
   "execution_count": 13,
   "metadata": {
    "pycharm": {
     "name": "#%%\n"
    }
   },
   "outputs": [
    {
     "name": "stdout",
     "output_type": "stream",
     "text": [
      "Run time: 0.588s\n",
      "brunner_munzel Statistic: 7.589\tp-value: 6.9930e-04\t# permutations computed: 48620\n"
     ]
    }
   ],
   "source": [
    "# and slightly modified here to include timing (without compilation that happens only once)\n",
    "res = timeit(pm.permutation_test, zero_1, one_1)\n",
    "print_results(res)"
   ]
  },
  {
   "cell_type": "markdown",
   "metadata": {},
   "source": [
    "If we need exact pvalue for 9 and 14 elements, that makes a lot more combinations:"
   ]
  },
  {
   "cell_type": "code",
   "execution_count": 14,
   "metadata": {
    "pycharm": {
     "name": "#%%\n"
    }
   },
   "outputs": [
    {
     "name": "stdout",
     "output_type": "stream",
     "text": [
      "ZERO:\t9 items with: \n",
      "Mean: 4.86\tstd: 0.29\n",
      "Median: 4.9\tIQR: [4.6-5.0]\tRange: [4.4-5.4]\n",
      "\n",
      "ONE bis:\t14 items with: \n",
      "Mean: 6.00\tstd: 0.65\n",
      "Median: 6.05\tIQR: [5.5-6.5]\tRange: [4.9-7.0]\n"
     ]
    },
    {
     "data": {
      "image/png": "[encoded data removed]",
      "text/plain": [
       "<Figure size 432x288 with 1 Axes>"
      ]
     },
     "metadata": {
      "needs_background": "light"
     },
     "output_type": "display_data"
    }
   ],
   "source": [
    "print(\"ZERO:\\t\", end=\"\")\n",
    "describe(zero_1)\n",
    "print(\"\\nONE bis:\\t\", end=\"\")\n",
    "one_bis = iris_data[50:64]\n",
    "one_bis_1 = one_bis[:, 0]\n",
    "describe(one_bis_1)\n",
    "with sns.plotting_context('paper'):\n",
    "    sns.boxplot(np.concatenate([iris_target[:9], iris_target[50:64]]),\n",
    "                np.concatenate([zero_1, one_bis_1]))"
   ]
  },
  {
   "cell_type": "code",
   "execution_count": 15,
   "metadata": {
    "pycharm": {
     "name": "#%%\n"
    }
   },
   "outputs": [
    {
     "name": "stdout",
     "output_type": "stream",
     "text": [
      "Run time: 10.444s\n",
      "brunner_munzel Statistic: 8.846\tp-value: 1.2604e-04\t# permutations computed: 817190\n"
     ]
    }
   ],
   "source": [
    "res = timeit(pm.permutation_test, zero_1, one_bis_1)\n",
    "print_results(res)"
   ]
  },
  {
   "cell_type": "markdown",
   "metadata": {
    "pycharm": {
     "name": "#%% md\n"
    }
   },
   "source": [
    "### Simulations\n",
    "If you'd be happy with 100 000 simulations, you can run\n",
    "```python\n",
    "pm.permutation_test(x, y, method=\"simulation\", n_iter=100_000)\n",
    "```"
   ]
  },
  {
   "cell_type": "code",
   "execution_count": 16,
   "metadata": {
    "pycharm": {
     "name": "#%%\n"
    }
   },
   "outputs": [
    {
     "name": "stdout",
     "output_type": "stream",
     "text": [
      "Run time: 2.279s\n",
      "brunner_munzel Statistic: 8.846\tp-value: 1.5000e-04\t# permutations computed: 100001\n"
     ]
    }
   ],
   "source": [
    "res = timeit(\n",
    "    pm.permutation_test, zero_1, one_bis_1, method=\"simulation\", n_iter=100_000)\n",
    "print_results(res)"
   ]
  },
  {
   "cell_type": "markdown",
   "metadata": {
    "pycharm": {
     "name": "#%% md\n"
    }
   },
   "source": [
    "If you need reproducible results, you can set a seed and run\n",
    "```python\n",
    "pm.permutation_test(x, y, method=\"simulation\", seed=50)\n",
    "```"
   ]
  },
  {
   "cell_type": "code",
   "execution_count": 17,
   "metadata": {
    "pycharm": {
     "name": "#%%\n"
    }
   },
   "outputs": [
    {
     "name": "stdout",
     "output_type": "stream",
     "text": [
      "brunner_munzel Statistic: 8.846\tp-value: 1.3000e-04\t# permutations computed: 100001\n",
      "brunner_munzel Statistic: 8.846\tp-value: 1.3000e-04\t# permutations computed: 100001\n"
     ]
    }
   ],
   "source": [
    "res = pm.permutation_test(zero_1, one_bis_1, method=\"simulation\", n_iter=100_000, seed=50)\n",
    "print_results(res)\n",
    "\n",
    "res= pm.permutation_test(zero_1, one_bis_1, method=\"simulation\", n_iter=100_000, seed=50)\n",
    "print_results(res)"
   ]
  },
  {
   "cell_type": "markdown",
   "metadata": {},
   "source": [
    "You can use the Mann-Whitney test like this:\n",
    "```python\n",
    "pm.permutation_test(x, y, test=\"mann_whitney\")\n",
    "```"
   ]
  },
  {
   "cell_type": "code",
   "execution_count": 18,
   "metadata": {},
   "outputs": [
    {
     "name": "stdout",
     "output_type": "stream",
     "text": [
      "mann_whitney Statistic: 117.500\tp-value: 1.6520e-04\t# permutations computed: 817190\n"
     ]
    }
   ],
   "source": [
    "res = pm.permutation_test(zero_1, one_bis_1, test=\"mann_whitney\")\n",
    "print_results(res)"
   ]
  },
  {
   "cell_type": "markdown",
   "metadata": {},
   "source": [
    "### Alternatives\n",
    "Alternatives are \"greater\", less\" or (default) \"two-sided\""
   ]
  },
  {
   "cell_type": "code",
   "execution_count": 19,
   "metadata": {
    "pycharm": {
     "name": "#%%\n"
    }
   },
   "outputs": [
    {
     "name": "stdout",
     "output_type": "stream",
     "text": [
      "mann_whitney Statistic: 8.500\tp-value: 9.9990e-05\t# permutations computed: 10001\n"
     ]
    }
   ],
   "source": [
    "res = pm.permutation_test(zero_1, one_bis_1, test=\"mann_whitney\", method=\"simulation\", alternative=\"less\")\n",
    "print_results(res)"
   ]
  },
  {
   "cell_type": "code",
   "execution_count": 20,
   "metadata": {
    "pycharm": {
     "name": "#%%\n"
    }
   },
   "outputs": [
    {
     "name": "stdout",
     "output_type": "stream",
     "text": [
      "mann_whitney Statistic: 8.500\tp-value: 9.9990e-01\t# permutations computed: 10001\n"
     ]
    }
   ],
   "source": [
    "res = pm.permutation_test(zero_1, one_bis_1, test=\"mann_whitney\", method=\"simulation\", alternative=\"greater\")\n",
    "print_results(res)"
   ]
  },
  {
   "cell_type": "markdown",
   "metadata": {},
   "source": [
    "Compare with scipy"
   ]
  },
  {
   "cell_type": "code",
   "execution_count": 21,
   "metadata": {},
   "outputs": [],
   "source": [
    "import scipy.stats"
   ]
  },
  {
   "cell_type": "code",
   "execution_count": 22,
   "metadata": {
    "pycharm": {
     "name": "#%%\n"
    }
   },
   "outputs": [],
   "source": [
    "joined = np.stack([zero_1, one_bis_1[:9]], axis=1)"
   ]
  },
  {
   "cell_type": "markdown",
   "metadata": {
    "pycharm": {
     "name": "#%% md\n"
    }
   },
   "source": [
    "Scipy implements an exact wilcoxon test for up to 25 observations without ties"
   ]
  },
  {
   "cell_type": "code",
   "execution_count": 23,
   "metadata": {
    "pycharm": {
     "name": "#%%\n"
    }
   },
   "outputs": [
    {
     "name": "stdout",
     "output_type": "stream",
     "text": [
      "wilcoxon Statistic: -43.000\tp-value: 9.9805e-01\t# permutations computed: 512\n",
      "Wilcoxon (scipy) Statistic: 1.000\tp-value: 9.9805e-01\t# permutations computed: 0\n"
     ]
    }
   ],
   "source": [
    "res = pm.repeated_permutation_test(joined, test=\"wilcoxon\", alternative=\"greater\")\n",
    "print_results(res)\n",
    "res = scipy.stats.wilcoxon(zero_1, one_bis_1[:9], alternative=\"greater\", mode=\"exact\")\n",
    "print_results(res, \"Wilcoxon (scipy)\", 0)"
   ]
  },
  {
   "cell_type": "code",
   "execution_count": 24,
   "metadata": {
    "pycharm": {
     "name": "#%%\n"
    }
   },
   "outputs": [
    {
     "name": "stdout",
     "output_type": "stream",
     "text": [
      "wilcoxon Statistic: -43.000\tp-value: 3.9062e-03\t# permutations computed: 512\n",
      "Wilcoxon (scipy) Statistic: 1.000\tp-value: 3.9062e-03\t# permutations computed: 0\n"
     ]
    }
   ],
   "source": [
    "res = pm.repeated_permutation_test(joined, test=\"wilcoxon\",  alternative=\"less\")\n",
    "print_results(res)\n",
    "res = scipy.stats.wilcoxon(zero_1, one_bis_1[:9], alternative=\"less\", mode=\"exact\")\n",
    "print_results(res, \"Wilcoxon (scipy)\", 0)"
   ]
  },
  {
   "cell_type": "code",
   "execution_count": 25,
   "metadata": {
    "pycharm": {
     "name": "#%%\n"
    }
   },
   "outputs": [
    {
     "name": "stdout",
     "output_type": "stream",
     "text": [
      "wilcoxon Statistic: 43.000\tp-value: 7.8125e-03\t# permutations computed: 512\n",
      "Wilcoxon (scipy) Statistic: 1.000\tp-value: 7.8125e-03\t# permutations computed: 0\n"
     ]
    }
   ],
   "source": [
    "res = pm.repeated_permutation_test(joined, test=\"wilcoxon\", alternative=\"two-sided\")\n",
    "print_results(res)\n",
    "res = scipy.stats.wilcoxon(zero_1, one_bis_1[:9], alternative=\"two-sided\", mode=\"exact\")\n",
    "print_results(res, \"Wilcoxon (scipy)\", 0)"
   ]
  },
  {
   "cell_type": "markdown",
   "metadata": {},
   "source": [
    "If you need the same statistic used in scipy, you can set return_w to 2"
   ]
  },
  {
   "cell_type": "code",
   "execution_count": 26,
   "metadata": {},
   "outputs": [
    {
     "data": {
      "text/plain": [
       "1.0"
      ]
     },
     "execution_count": 26,
     "metadata": {},
     "output_type": "execute_result"
    }
   ],
   "source": [
    "from permutations_stats.tests import wilcoxon\n",
    "wilcoxon.test(joined, return_w=2)"
   ]
  },
  {
   "cell_type": "markdown",
   "metadata": {},
   "source": [
    "And to 1 for R's equivalent"
   ]
  },
  {
   "cell_type": "code",
   "execution_count": 27,
   "metadata": {},
   "outputs": [
    {
     "data": {
      "text/plain": [
       "1.0"
      ]
     },
     "execution_count": 27,
     "metadata": {},
     "output_type": "execute_result"
    }
   ],
   "source": [
    "wilcoxon.test(joined, 1)"
   ]
  },
  {
   "cell_type": "code",
   "execution_count": 59,
   "metadata": {},
   "outputs": [],
   "source": [
    "r_result = namedtuple(\"R_result\", (\"statistic\", \"pvalue\", \"test\"))"
   ]
  },
  {
   "cell_type": "markdown",
   "metadata": {},
   "source": [
    "\n",
    "For Mann-Whitney-Wilcoxon, we can compare the statistics, but the pvalue of `scipy` is not reliable with few observations (see the test doc page).\n",
    "We can also compare with `wilcox.exact` from R package `exactRankTests` as `coin` doesn't seem to work in rpy2\n"
   ]
  },
  {
   "cell_type": "code",
   "execution_count": 67,
   "metadata": {},
   "outputs": [
    {
     "name": "stdout",
     "output_type": "stream",
     "text": [
      "Mann-Whitney (perm-s) Statistic: 8.500\tp-value: 9.9993e-01\t# permutations computed: 817190\n",
      "Mann-Whitney (scipy) Statistic: 8.500\tp-value: 9.9974e-01\t# permutations computed: 0\n",
      "Mann-Whitney (R) Statistic: 8.500\tp-value: 9.9993e-01\t# permutations computed: ?\n"
     ]
    }
   ],
   "source": [
    "print_results(\n",
    "    pm.permutation_test(zero_1, one_bis_1, test=\"mann_whitney\", alternative=\"greater\"), \"Mann-Whitney (perm-s)\")\n",
    "print_results(\n",
    "    scipy.stats.mannwhitneyu(zero_1, one_bis_1, alternative=\"greater\"), \"Mann-Whitney (scipy)\", 0)\n",
    "r_data = wilcox(zero_1, one_bis_1, alternative=\"greater\", exact=True)\n",
    "print_results(\n",
    "    r_result(r_data[0][0], r_data[2][0], \"Mann-Whitney (R)\"), permutations=\"?\")"
   ]
  },
  {
   "cell_type": "code",
   "execution_count": 68,
   "metadata": {},
   "outputs": [
    {
     "name": "stdout",
     "output_type": "stream",
     "text": [
      "Mann-Whitney (perm-s) Statistic: 8.500\tp-value: 8.4436e-05\t# permutations computed: 817190\n",
      "Mann-Whitney (scipy) Statistic: 8.500\tp-value: 3.2873e-04\t# permutations computed: 0\n",
      "Mann-Whitney (R) Statistic: 8.500\tp-value: 8.4436e-05\t# permutations computed: ?\n"
     ]
    }
   ],
   "source": [
    "print_results(\n",
    "    pm.permutation_test(zero_1, one_bis_1, test=\"mann_whitney\", alternative=\"less\"), \"Mann-Whitney (perm-s)\")\n",
    "print_results(\n",
    "    scipy.stats.mannwhitneyu(zero_1, one_bis_1, alternative=\"less\"), \"Mann-Whitney (scipy)\", 0)\n",
    "r_data = wilcox(zero_1, one_bis_1, alternative=\"less\", exact=True)\n",
    "print_results(\n",
    "    r_result(r_data[0][0], r_data[2][0], \"Mann-Whitney (R)\"), permutations=\"?\")"
   ]
  },
  {
   "cell_type": "code",
   "execution_count": 71,
   "metadata": {},
   "outputs": [
    {
     "name": "stdout",
     "output_type": "stream",
     "text": [
      "Mann-Whitney (perm-s) Statistic: 117.500\tp-value: 1.6520e-04\t# permutations computed: 817190\n",
      "Mann-Whitney (scipy) Statistic: 8.500\tp-value: 6.5745e-04\t# permutations computed: 0\n",
      "Mann-Whitney (R) Statistic: 8.500\tp-value: 1.6520e-04\t# permutations computed: ?\n"
     ]
    }
   ],
   "source": [
    "print_results(\n",
    "    pm.permutation_test(zero_1, one_bis_1, test=\"mann_whitney\", alternative=\"two-sided\"), \"Mann-Whitney (perm-s)\")\n",
    "print_results(\n",
    "    scipy.stats.mannwhitneyu(zero_1, one_bis_1, alternative=\"two-sided\"), \"Mann-Whitney (scipy)\", 0)\n",
    "r_data = wilcox(zero_1, one_bis_1, alternative=\"two.sided\", exact=True)\n",
    "print_results(\n",
    "    r_result(r_data[0][0], r_data[2][0], \"Mann-Whitney (R)\"), permutations=\"?\")"
   ]
  },
  {
   "cell_type": "markdown",
   "metadata": {},
   "source": [
    "For Brunner-Munzel, we can compare the statistic, but the pvalue of `scipy` is\n",
    "not reliable with few observations (see\n",
    "[the test doc page](https://docs.scipy.org/doc/scipy/reference/generated/scipy.stats.brunnermunzel.html)).  \n",
    "We can also compare with brunnermunzel.permutation.test from R"
   ]
  },
  {
   "cell_type": "code",
   "execution_count": 77,
   "metadata": {},
   "outputs": [
    {
     "name": "stdout",
     "output_type": "stream",
     "text": [
      "\n",
      "\tpermuted Brunner-Munzel Test\n",
      "\n",
      "data:  structure(c(5.1, 4.9, 4.7, 4.6, 5, 5.4, 4.6, 5, 4.4), .Dim = 9L) and structure(c(7, 6.4, 6.9, 5.5, 6.5, 5.7, 6.3, 4.9, 6.6, 5.2, 5, structure(c(5.1, 4.9, 4.7, 4.6, 5, 5.4, 4.6, 5, 4.4), .Dim = 9L) and 5.9, 6, 6.1), .Dim = 14L)\n",
      "p-value = 6.363e-05\n",
      "sample estimates:\n",
      "P(X<Y)+.5*P(X=Y) \n",
      "       0.9325397 \n",
      "\n",
      "\n"
     ]
    }
   ],
   "source": [
    "print(r_data)"
   ]
  },
  {
   "cell_type": "code",
   "execution_count": 79,
   "metadata": {
    "pycharm": {
     "name": "#%%\n"
    }
   },
   "outputs": [
    {
     "name": "stdout",
     "output_type": "stream",
     "text": [
      "brunner_munzel Statistic: 8.846\tp-value: 9.9994e-01\t# permutations computed: 817190\n",
      "Brunner-Munzel (scipy) Statistic: 8.846\tp-value: 1.0701e-08\t# permutations computed: 0\n",
      "Brunner-Munzel (R) Statistic: 0.000\tp-value: 6.3633e-05\t# permutations computed: ?\n"
     ]
    }
   ],
   "source": [
    "print_results(\n",
    "    pm.permutation_test(zero_1, one_bis_1, alternative=\"less\"))\n",
    "print_results(\n",
    "    scipy.stats.brunnermunzel(zero_1, one_bis_1, alternative=\"less\"), \"Brunner-Munzel (scipy)\", 0)\n",
    "r_data = bmp(zero_1, one_bis_1, alternative=\"less\")\n",
    "print_results(\n",
    "    r_result(0, r_data[2][0], \"Brunner-Munzel (R)\"), permutations=\"?\")"
   ]
  },
  {
   "cell_type": "code",
   "execution_count": 80,
   "metadata": {},
   "outputs": [
    {
     "name": "stdout",
     "output_type": "stream",
     "text": [
      "brunner_munzel Statistic: 8.846\tp-value: 6.7304e-05\t# permutations computed: 817190\n",
      "Brunner-Munzel (scipy) Statistic: 8.846\tp-value: 1.0000e+00\t# permutations computed: 0\n",
      "Brunner-Munzel (R) Statistic: 0.000\tp-value: 9.9994e-01\t# permutations computed: ?\n"
     ]
    }
   ],
   "source": [
    "print_results(\n",
    "    pm.permutation_test(zero_1, one_bis_1, alternative=\"greater\"))\n",
    "print_results(\n",
    "    scipy.stats.brunnermunzel(zero_1, one_bis_1, alternative=\"greater\"), \"Brunner-Munzel (scipy)\", 0)\n",
    "r_data = bmp(zero_1, one_bis_1, alternative=\"greater\")\n",
    "print_results(\n",
    "    r_result(0, r_data[2][0], \"Brunner-Munzel (R)\"), permutations=\"?\")"
   ]
  },
  {
   "cell_type": "code",
   "execution_count": 81,
   "metadata": {},
   "outputs": [
    {
     "name": "stdout",
     "output_type": "stream",
     "text": [
      "brunner_munzel Statistic: 8.846\tp-value: 1.2604e-04\t# permutations computed: 817190\n",
      "Brunner-Munzel (scipy) Statistic: 8.846\tp-value: 2.1401e-08\t# permutations computed: 0\n",
      "Brunner-Munzel (R) Statistic: 0.000\tp-value: 1.2237e-04\t# permutations computed: ?\n"
     ]
    }
   ],
   "source": [
    "print_results(\n",
    "    pm.permutation_test(zero_1, one_bis_1, alternative=\"two-sided\"))\n",
    "print_results(\n",
    "    scipy.stats.brunnermunzel(zero_1, one_bis_1, alternative=\"two-sided\"), \"Brunner-Munzel (scipy)\", 0)\n",
    "r_data = bmp(zero_1, one_bis_1, alternative=\"two.sided\")\n",
    "print_results(\n",
    "    r_result(0, r_data[2][0], \"Brunner-Munzel (R)\"), permutations=\"?\")"
   ]
  },
  {
   "cell_type": "code",
   "execution_count": null,
   "metadata": {},
   "outputs": [],
   "source": []
  }
 ],
 "metadata": {
  "kernelspec": {
   "display_name": "Python [conda env:stats] *",
   "language": "python",
   "name": "conda-env-stats-py"
  },
  "language_info": {
   "codemirror_mode": {
    "name": "ipython",
    "version": 3
   },
   "file_extension": ".py",
   "mimetype": "text/x-python",
   "name": "python",
   "nbconvert_exporter": "python",
   "pygments_lexer": "ipython3",
   "version": "3.7.0"
  }
 },
 "nbformat": 4,
 "nbformat_minor": 1
}
