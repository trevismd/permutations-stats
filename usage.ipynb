{
 "cells": [
  {
   "cell_type": "code",
   "execution_count": 1,
   "outputs": [],
   "source": [
    "import numpy as np\n",
    "from permutations_stats.permutations import permutation_test, repeated_permutation_test, permutation_result\n"
   ],
   "metadata": {
    "collapsed": false,
    "pycharm": {
     "name": "#%%\n"
    }
   }
  },
  {
   "cell_type": "markdown",
   "source": [
    "### Sample data"
   ],
   "metadata": {
    "collapsed": false,
    "pycharm": {
     "name": "#%% md\n"
    }
   }
  },
  {
   "cell_type": "code",
   "execution_count": 2,
   "outputs": [],
   "source": [
    "x = np.arange(9)\n",
    "y = (np.arange(8) -0.2) * 1.1"
   ],
   "metadata": {
    "collapsed": false,
    "pycharm": {
     "name": "#%%\n"
    }
   }
  },
  {
   "cell_type": "markdown",
   "source": [
    "### helper code to show results"
   ],
   "metadata": {
    "collapsed": false
   }
  },
  {
   "cell_type": "code",
   "execution_count": 3,
   "outputs": [],
   "source": [
    "names = {\"brunner_munzel\": \"Brunner-Munzel\",\n",
    "         \"wilcoxon\": \"Wilcoxon\",\n",
    "         \"friedman\": \"Friedman\",\n",
    "         \"mann_whitney\": \"Mann-Whitney-Wilcoxon\"}\n",
    "\n",
    "def pretty_print_results(results: permutation_result):\n",
    "    print(f\"Performed test: {names[results.test]},\\n\"\n",
    "          f\"Base statistic: {results.statistic},\\n\"\n",
    "          f\"Method: {results.method},\\n\"\n",
    "          f\"Nb permutations: {results.permutations},\\n\"\n",
    "          f\"alternative: {results.alternative},\\n\"\n",
    "          f\"pvalue: {results.pvalue}\")"
   ],
   "metadata": {
    "collapsed": false,
    "pycharm": {
     "name": "#%%\n"
    }
   }
  },
  {
   "cell_type": "markdown",
   "source": [
    "## Testing independent samples"
   ],
   "metadata": {
    "collapsed": false
   }
  },
  {
   "cell_type": "markdown",
   "source": [
    "By default, `permutation_test` will perform an exact Brunner Munzel test (two-sided)\n",
    "and return a PermutationResults object"
   ],
   "metadata": {
    "collapsed": false,
    "pycharm": {
     "name": "#%% md\n"
    }
   }
  },
  {
   "cell_type": "code",
   "execution_count": 4,
   "outputs": [
    {
     "data": {
      "text/plain": "PermutationsResults(statistic=0.2776044311308564, pvalue=0.7475935828877005, permutations=24310, test='brunner_munzel', alternative='TWO_SIDED', method='exact')"
     },
     "execution_count": 4,
     "metadata": {},
     "output_type": "execute_result"
    }
   ],
   "source": [
    "result = permutation_test(x, y, test=\"brunner_munzel\")\n",
    "result"
   ],
   "metadata": {
    "collapsed": false,
    "pycharm": {
     "name": "#%%\n"
    }
   }
  },
  {
   "cell_type": "markdown",
   "source": [
    "which, printed with the function above gives"
   ],
   "metadata": {
    "collapsed": false,
    "pycharm": {
     "name": "#%% md\n"
    }
   }
  },
  {
   "cell_type": "code",
   "execution_count": 5,
   "outputs": [
    {
     "name": "stdout",
     "output_type": "stream",
     "text": [
      "Performed test: Brunner-Munzel,\n",
      "Base statistic: 0.2776044311308564,\n",
      "Method: exact,\n",
      "Nb permutations: 24310,\n",
      "alternative: TWO_SIDED,\n",
      "pvalue: 0.7475935828877005\n"
     ]
    }
   ],
   "source": [
    "pretty_print_results(result)"
   ],
   "metadata": {
    "collapsed": false,
    "pycharm": {
     "name": "#%%\n"
    }
   }
  },
  {
   "cell_type": "markdown",
   "source": [
    "Simulations are run like this (n_iter has default 10 000 iterations and can be omitted)\n",
    "NB: 1 is added to numerator and denominator of pvalue calculation if simulations are run"
   ],
   "metadata": {
    "collapsed": false,
    "pycharm": {
     "name": "#%% md\n"
    }
   }
  },
  {
   "cell_type": "code",
   "execution_count": 6,
   "outputs": [
    {
     "name": "stdout",
     "output_type": "stream",
     "text": [
      "Performed test: Brunner-Munzel,\n",
      "Base statistic: 0.2776044311308564,\n",
      "Method: simulation,\n",
      "Nb permutations: 101,\n",
      "alternative: TWO_SIDED,\n",
      "pvalue: 0.7623762376237624\n"
     ]
    }
   ],
   "source": [
    "result = permutation_test(x, y, method=\"approximate\", n_iter=100)\n",
    "pretty_print_results(result)"
   ],
   "metadata": {
    "collapsed": false,
    "pycharm": {
     "name": "#%%\n"
    }
   }
  },
  {
   "cell_type": "markdown",
   "source": [
    "An exact test is run, with a warning, if the number of iterations specified is larger than number of combinations"
   ],
   "metadata": {
    "collapsed": false,
    "pycharm": {
     "name": "#%% md\n"
    }
   }
  },
  {
   "cell_type": "code",
   "execution_count": 7,
   "outputs": [
    {
     "name": "stderr",
     "output_type": "stream",
     "text": [
      "/Users/trevis/code/permutations-stats/permutations_stats/permutations.py:353: UserWarning: Simulation overridden by exact test because total number of combinations (24310) is smaller than asked amount of simulation iterations (50000).\n",
      "Pass `force_simulations=True` to avoid this behavior\n",
      "  f\"Simulation overridden by exact test because total number of \"\n"
     ]
    },
    {
     "name": "stdout",
     "output_type": "stream",
     "text": [
      "Performed test: Brunner-Munzel,\n",
      "Base statistic: 0.2776044311308564,\n",
      "Method: exact,\n",
      "Nb permutations: 24310,\n",
      "alternative: TWO_SIDED,\n",
      "pvalue: 0.7475935828877005\n"
     ]
    }
   ],
   "source": [
    "result = permutation_test(x, y, method=\"approximate\", n_iter=50_000)\n",
    "pretty_print_results(result)"
   ],
   "metadata": {
    "collapsed": false,
    "pycharm": {
     "name": "#%%\n"
    }
   }
  },
  {
   "cell_type": "markdown",
   "source": [
    "Pass `force_simulations=True` to avoid this behavior"
   ],
   "metadata": {
    "collapsed": false,
    "pycharm": {
     "name": "#%% md\n"
    }
   }
  },
  {
   "cell_type": "code",
   "source": [
    "result = permutation_test(x, y, method=\"approximate\", n_iter=50_000, force_simulations=True)\n",
    "pretty_print_results(result)"
   ],
   "metadata": {
    "collapsed": false,
    "pycharm": {
     "name": "#%%\n"
    }
   },
   "execution_count": 8,
   "outputs": [
    {
     "name": "stdout",
     "output_type": "stream",
     "text": [
      "Performed test: Brunner-Munzel,\n",
      "Base statistic: 0.2776044311308564,\n",
      "Method: simulation,\n",
      "Nb permutations: 50001,\n",
      "alternative: TWO_SIDED,\n",
      "pvalue: 0.7474450510989781\n"
     ]
    }
   ]
  },
  {
   "cell_type": "markdown",
   "source": [
    "Other alternatives are possible (`\"greater\"` and `\"less\"`, default is `\"two-sided\"`)"
   ],
   "metadata": {
    "collapsed": false,
    "pycharm": {
     "name": "#%% md\n"
    }
   }
  },
  {
   "cell_type": "code",
   "execution_count": 9,
   "outputs": [
    {
     "name": "stdout",
     "output_type": "stream",
     "text": [
      "Performed test: Brunner-Munzel,\n",
      "Base statistic: 0.2776044311308564,\n",
      "Method: exact,\n",
      "Nb permutations: 24310,\n",
      "alternative: GREATER,\n",
      "pvalue: 0.37379679144385025\n"
     ]
    }
   ],
   "source": [
    "result = permutation_test(x, y, alternative=\"greater\")\n",
    "pretty_print_results(result)"
   ],
   "metadata": {
    "collapsed": false,
    "pycharm": {
     "name": "#%%\n"
    }
   }
  },
  {
   "cell_type": "markdown",
   "source": [
    "Other independent-samples implemented tests are: `\"mann-whitney\"`"
   ],
   "metadata": {
    "collapsed": false,
    "pycharm": {
     "name": "#%% md\n"
    }
   }
  },
  {
   "cell_type": "markdown",
   "source": [
    "## Repeated tests, dependent samples:"
   ],
   "metadata": {
    "collapsed": false,
    "pycharm": {
     "name": "#%% md\n"
    }
   }
  },
  {
   "cell_type": "markdown",
   "source": [
    "`\"wilcoxon\"` and `\"friedman\"` are used as follows"
   ],
   "metadata": {
    "collapsed": false,
    "pycharm": {
     "name": "#%% md\n"
    }
   }
  },
  {
   "cell_type": "code",
   "execution_count": 10,
   "outputs": [
    {
     "name": "stdout",
     "output_type": "stream",
     "text": [
      "Performed test: Wilcoxon,\n",
      "Base statistic: 27.0,\n",
      "Method: exact,\n",
      "Nb permutations: 512,\n",
      "alternative: TWO_SIDED,\n",
      "pvalue: 0.12890625\n"
     ]
    }
   ],
   "source": [
    "# same sample data\n",
    "x = np.arange(9)\n",
    "y = (np.arange(9) -0.2) * 1.1\n",
    "\n",
    "# Reshape to expected format\n",
    "data = np.vstack([x, y]).T\n",
    "\n",
    "result = repeated_permutation_test(data, test=\"wilcoxon\")\n",
    "pretty_print_results(result)"
   ],
   "metadata": {
    "collapsed": false,
    "pycharm": {
     "name": "#%%\n"
    }
   }
  }
 ],
 "metadata": {
  "kernelspec": {
   "display_name": "Python 3",
   "language": "python",
   "name": "python3"
  },
  "language_info": {
   "codemirror_mode": {
    "name": "ipython",
    "version": 2
   },
   "file_extension": ".py",
   "mimetype": "text/x-python",
   "name": "python",
   "nbconvert_exporter": "python",
   "pygments_lexer": "ipython2",
   "version": "2.7.6"
  }
 },
 "nbformat": 4,
 "nbformat_minor": 0
}